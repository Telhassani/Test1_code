{
 "cells": [
  {
   "cell_type": "code",
   "execution_count": 4,
   "metadata": {},
   "outputs": [
    {
     "data": {
      "text/html": [
       "\n",
       "        <iframe\n",
       "            width=\"1250\"\n",
       "            height=\"600\"\n",
       "            src=\"https://app.powerbi.com/view?r=eyJrIjoiNGI0NDEzNmEtODNkMC00YjMzLTkxYmItNDdmNjM1NWUxOWZmIiwidCI6IjBlODhkMjhiLTE4YzgtNDk4OC04MDI0LWQ0ZWIzMzA3MWYxYSJ9\"\n",
       "            frameborder=\"0\"\n",
       "            allowfullscreen\n",
       "            \n",
       "        ></iframe>\n",
       "        "
      ],
      "text/plain": [
       "<IPython.lib.display.IFrame at 0x12224f8e0>"
      ]
     },
     "execution_count": 4,
     "metadata": {},
     "output_type": "execute_result"
    }
   ],
   "source": [
    "import pandas as pd\n",
    "from IPython.display import IFrame\n",
    "from IPython.display import display_pdf\n",
    "from IPython.display import display_png\n",
    "\n",
    "IFrame(src=\"https://app.powerbi.com/view?r=eyJrIjoiNGI0NDEzNmEtODNkMC00YjMzLTkxYmItNDdmNjM1NWUxOWZmIiwidCI6IjBlODhkMjhiLTE4YzgtNDk4OC04MDI0LWQ0ZWIzMzA3MWYxYSJ9\", height=\"600\", width=\"1250\")"
   ]
  },
  {
   "cell_type": "code",
   "execution_count": null,
   "metadata": {},
   "outputs": [],
   "source": []
  }
 ],
 "metadata": {
  "kernelspec": {
   "display_name": "Python 3.10.6 ('test1')",
   "language": "python",
   "name": "python3"
  },
  "language_info": {
   "codemirror_mode": {
    "name": "ipython",
    "version": 3
   },
   "file_extension": ".py",
   "mimetype": "text/x-python",
   "name": "python",
   "nbconvert_exporter": "python",
   "pygments_lexer": "ipython3",
   "version": "3.10.6"
  },
  "orig_nbformat": 4,
  "vscode": {
   "interpreter": {
    "hash": "9ed63a9aaf9638e694056b81ab22557001a7ea1e4f7edf0bc099507164574340"
   }
  }
 },
 "nbformat": 4,
 "nbformat_minor": 2
}
